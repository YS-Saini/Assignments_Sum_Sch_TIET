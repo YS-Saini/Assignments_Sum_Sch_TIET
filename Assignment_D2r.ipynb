{
  "nbformat": 4,
  "nbformat_minor": 0,
  "metadata": {
    "colab": {
      "provenance": [],
      "toc_visible": true,
      "collapsed_sections": [
        "xhLqtpwg07qF",
        "zNHviOpXQM4L"
      ],
      "authorship_tag": "ABX9TyNanvaYPXws2B7G//IyuFH8",
      "include_colab_link": true
    },
    "kernelspec": {
      "name": "python3",
      "display_name": "Python 3"
    },
    "language_info": {
      "name": "python"
    }
  },
  "cells": [
    {
      "cell_type": "markdown",
      "metadata": {
        "id": "view-in-github",
        "colab_type": "text"
      },
      "source": [
        "<a href=\"https://colab.research.google.com/github/YS-Saini/Assignments_Sum_Sch_TIET/blob/main/Assignment_D2r.ipynb\" target=\"_parent\"><img src=\"https://colab.research.google.com/assets/colab-badge.svg\" alt=\"Open In Colab\"/></a>"
      ]
    },
    {
      "cell_type": "markdown",
      "source": [
        "# QUESTION 1\n"
      ],
      "metadata": {
        "id": "xhLqtpwg07qF"
      }
    },
    {
      "cell_type": "markdown",
      "source": [
        "---\n",
        "### *L is a list defined as L= [11, 12, 13, 14].*\n",
        "---"
      ],
      "metadata": {
        "id": "ZSy4jVEB0_19"
      }
    },
    {
      "cell_type": "code",
      "source": [
        "L= [11, 12, 13, 14]\n",
        "L.append(50);\n",
        "L.append(60)\n",
        "print(L)\n"
      ],
      "metadata": {
        "colab": {
          "base_uri": "https://localhost:8080/"
        },
        "id": "kkuMWNXT0-jm",
        "outputId": "660e7d99-56cb-47bf-9370-f5979c9d24b0"
      },
      "execution_count": 2,
      "outputs": [
        {
          "output_type": "stream",
          "name": "stdout",
          "text": [
            "[11, 12, 13, 14, 50, 60]\n"
          ]
        }
      ]
    },
    {
      "cell_type": "code",
      "source": [
        "L= [11, 12, 13, 14]\n",
        "L.append(50);\n",
        "L.append(60)\n",
        "print(L)\n",
        "\n",
        "L.remove(13)\n",
        "L.remove(11)\n",
        "print(L)\n"
      ],
      "metadata": {
        "colab": {
          "base_uri": "https://localhost:8080/"
        },
        "id": "VSqvQozD3GZw",
        "outputId": "2a826254-5de3-4427-e9f4-4c2bd4a5d2ad"
      },
      "execution_count": 14,
      "outputs": [
        {
          "output_type": "stream",
          "name": "stdout",
          "text": [
            "[11, 12, 13, 14, 50, 60]\n",
            "[12, 14, 50, 60]\n"
          ]
        }
      ]
    },
    {
      "cell_type": "code",
      "source": [
        "L.sort()\n",
        "print(L)\n"
      ],
      "metadata": {
        "colab": {
          "base_uri": "https://localhost:8080/"
        },
        "id": "tQrfcyCs3SYz",
        "outputId": "a8878ded-d209-495a-c314-dd2a99634fb4"
      },
      "execution_count": 7,
      "outputs": [
        {
          "output_type": "stream",
          "name": "stdout",
          "text": [
            "[12, 14, 50, 60]\n"
          ]
        }
      ]
    },
    {
      "cell_type": "code",
      "source": [
        "L.sort(reverse = True)\n",
        "print(L)"
      ],
      "metadata": {
        "colab": {
          "base_uri": "https://localhost:8080/"
        },
        "id": "y7zOOvGO3S1c",
        "outputId": "f24de210-178f-4abf-daca-602f32381bfd"
      },
      "execution_count": 12,
      "outputs": [
        {
          "output_type": "stream",
          "name": "stdout",
          "text": [
            "[60, 50, 14, 12]\n"
          ]
        }
      ]
    },
    {
      "cell_type": "code",
      "source": [
        "if 13 in L:\n",
        "  print(\"present\")"
      ],
      "metadata": {
        "id": "QM0fS5G23S_e"
      },
      "execution_count": null,
      "outputs": []
    },
    {
      "cell_type": "code",
      "source": [
        "x = len(L)\n",
        "print(\"number of elements = \" , x)\n",
        "\n"
      ],
      "metadata": {
        "colab": {
          "base_uri": "https://localhost:8080/"
        },
        "id": "p96j6eJx6qmb",
        "outputId": "288142ce-f6b8-489f-a0ad-7904a93c5552"
      },
      "execution_count": 18,
      "outputs": [
        {
          "output_type": "stream",
          "name": "stdout",
          "text": [
            "number of elements =  4\n"
          ]
        }
      ]
    },
    {
      "cell_type": "code",
      "source": [
        "print(sum(L))"
      ],
      "metadata": {
        "colab": {
          "base_uri": "https://localhost:8080/"
        },
        "id": "1vM_lnCl6qtu",
        "outputId": "25d70be4-f71f-4c82-ec5a-82bca569b08f"
      },
      "execution_count": 19,
      "outputs": [
        {
          "output_type": "stream",
          "name": "stdout",
          "text": [
            "136\n"
          ]
        }
      ]
    },
    {
      "cell_type": "code",
      "source": [
        "summ = 0;\n",
        "for i in range(0, len(L)):\n",
        "  if L[i]%2 != 0:\n",
        "    summ = summ + L[i];\n",
        "\n",
        "print(summ);"
      ],
      "metadata": {
        "colab": {
          "base_uri": "https://localhost:8080/"
        },
        "id": "slAhHjSP6q0g",
        "outputId": "e8ab11ed-dec1-44f4-93e2-79ccbe583e38"
      },
      "execution_count": 25,
      "outputs": [
        {
          "output_type": "stream",
          "name": "stdout",
          "text": [
            "0\n"
          ]
        }
      ]
    },
    {
      "cell_type": "code",
      "source": [
        "L=[11,12,13,14]\n",
        "sum=0\n",
        "\n",
        "for i in L:\n",
        " c=0 \n",
        " for g in range(2,i//2+1):\n",
        "  if i%g==0:\n",
        "   c=c+1\n",
        " if c==0:  \n",
        "  sum=sum+i\n",
        "print(\"sum of prime numbers is\",sum)"
      ],
      "metadata": {
        "colab": {
          "base_uri": "https://localhost:8080/"
        },
        "id": "doS30xTE6q7J",
        "outputId": "b92f0f5a-5507-46e2-849b-120ab55b715e"
      },
      "execution_count": 27,
      "outputs": [
        {
          "output_type": "stream",
          "name": "stdout",
          "text": [
            "sum of prime numbers is 24\n"
          ]
        }
      ]
    },
    {
      "cell_type": "code",
      "source": [
        "L.clear()"
      ],
      "metadata": {
        "id": "HUZrWGUg-gUp"
      },
      "execution_count": 30,
      "outputs": []
    },
    {
      "cell_type": "code",
      "source": [
        "del(L)"
      ],
      "metadata": {
        "id": "qUzL8v5a-geC"
      },
      "execution_count": 33,
      "outputs": []
    },
    {
      "cell_type": "markdown",
      "source": [
        "#QUESTION 2"
      ],
      "metadata": {
        "id": "zNHviOpXQM4L"
      }
    },
    {
      "cell_type": "markdown",
      "source": [
        "---\n",
        "###D is a dictionary defined as D= {1:5.6, 2:7.8, 3:6.6, 4:8.7, 5:7.7}.\n",
        "---"
      ],
      "metadata": {
        "id": "lRhwCJADQxp0"
      }
    },
    {
      "cell_type": "code",
      "source": [
        "D= {1:5.6, 2:7.8, 3:6.6, 4:8.7, 5:7.7}"
      ],
      "metadata": {
        "id": "yosih9_z-gkH"
      },
      "execution_count": 34,
      "outputs": []
    },
    {
      "cell_type": "code",
      "source": [
        "D[8] = 8.8\n",
        "print (list(D.values()))"
      ],
      "metadata": {
        "colab": {
          "base_uri": "https://localhost:8080/"
        },
        "id": "comOzc4Y-gp1",
        "outputId": "adff9469-181d-4fa6-dcf8-7d00011ebd04"
      },
      "execution_count": 38,
      "outputs": [
        {
          "output_type": "stream",
          "name": "stdout",
          "text": [
            "[5.6, 7.8, 6.6, 8.7, 7.7, 8.8]\n"
          ]
        }
      ]
    },
    {
      "cell_type": "code",
      "source": [
        "del D[2]\n",
        "print (list(D.values()))"
      ],
      "metadata": {
        "colab": {
          "base_uri": "https://localhost:8080/"
        },
        "id": "rr03s6vq-gve",
        "outputId": "32e83aa9-814a-4c81-d834-337f38707a0b"
      },
      "execution_count": 39,
      "outputs": [
        {
          "output_type": "stream",
          "name": "stdout",
          "text": [
            "[5.6, 6.6, 8.7, 7.7, 8.8]\n"
          ]
        }
      ]
    },
    {
      "cell_type": "code",
      "source": [
        "print (6 in D)\n",
        "print(8 in D)"
      ],
      "metadata": {
        "colab": {
          "base_uri": "https://localhost:8080/"
        },
        "id": "d-pe98Qv-g0t",
        "outputId": "9c1b93a3-4aa0-4bde-f18f-671be40cb1d7"
      },
      "execution_count": 42,
      "outputs": [
        {
          "output_type": "stream",
          "name": "stdout",
          "text": [
            "False\n",
            "True\n"
          ]
        }
      ]
    },
    {
      "cell_type": "code",
      "source": [
        "print(len(D))"
      ],
      "metadata": {
        "colab": {
          "base_uri": "https://localhost:8080/"
        },
        "id": "WchGeil_-g6N",
        "outputId": "3f504b1c-6b9f-4e10-8115-198c7911ebb6"
      },
      "execution_count": 43,
      "outputs": [
        {
          "output_type": "stream",
          "name": "stdout",
          "text": [
            "5\n"
          ]
        }
      ]
    },
    {
      "cell_type": "code",
      "source": [
        "x=0\n",
        "for i in D:\n",
        "  x += D[i]\n",
        "print(x)"
      ],
      "metadata": {
        "colab": {
          "base_uri": "https://localhost:8080/"
        },
        "id": "0dD8qglP6rBE",
        "outputId": "4d11a9ca-0af6-451f-c4df-bde4d389fc47"
      },
      "execution_count": 44,
      "outputs": [
        {
          "output_type": "stream",
          "name": "stdout",
          "text": [
            "37.4\n"
          ]
        }
      ]
    },
    {
      "cell_type": "code",
      "source": [
        "D[3]= 7.1"
      ],
      "metadata": {
        "id": "q8CCNFk-UZJD"
      },
      "execution_count": 47,
      "outputs": []
    },
    {
      "cell_type": "code",
      "source": [
        "D.clear()"
      ],
      "metadata": {
        "id": "D6Ff2A25WY7z"
      },
      "execution_count": 48,
      "outputs": []
    },
    {
      "cell_type": "markdown",
      "source": [
        "#QUESTION 3"
      ],
      "metadata": {
        "id": "iIFK4lw8Wh4l"
      }
    },
    {
      "cell_type": "markdown",
      "source": [
        "### S1 is a set defined as S1= [10, 20, 30, 40, 50, 60].\n",
        "###S2 is a set defined as S2= [40, 50, 60, 70, 80, 90]."
      ],
      "metadata": {
        "id": "n4221u8ZWkWo"
      }
    },
    {
      "cell_type": "code",
      "source": [],
      "metadata": {
        "id": "7RXvb4bkvtgF"
      },
      "execution_count": null,
      "outputs": []
    },
    {
      "cell_type": "code",
      "source": [],
      "metadata": {
        "id": "zYMUHV1SvuOs"
      },
      "execution_count": null,
      "outputs": []
    },
    {
      "cell_type": "code",
      "source": [],
      "metadata": {
        "id": "h4_losYuvuTw"
      },
      "execution_count": null,
      "outputs": []
    },
    {
      "cell_type": "code",
      "source": [],
      "metadata": {
        "id": "kOefW5RUvuYo"
      },
      "execution_count": null,
      "outputs": []
    },
    {
      "cell_type": "code",
      "source": [],
      "metadata": {
        "id": "gXCqZtOyvudJ"
      },
      "execution_count": null,
      "outputs": []
    },
    {
      "cell_type": "code",
      "source": [
        "  "
      ],
      "metadata": {
        "id": "Lx0tTq8Wvuhn"
      },
      "execution_count": null,
      "outputs": []
    },
    {
      "cell_type": "markdown",
      "source": [
        "#QUESTION 4"
      ],
      "metadata": {
        "id": "sPxkpQrivLxn"
      }
    },
    {
      "cell_type": "code",
      "source": [],
      "metadata": {
        "id": "GTUGlI6tvyMb"
      },
      "execution_count": null,
      "outputs": []
    },
    {
      "cell_type": "code",
      "source": [
        "# 2).\n",
        "def is_prime(n):\n",
        "    for i in range(2, n//2 + 1):\n",
        "        if n % i == 0:\n",
        "            return False\n",
        "    return True\n",
        "\n",
        "start = 600\n",
        "end = 800\n",
        "\n",
        "print(\"Prime numbers between\", start, \"and\", end, \"are:\")\n",
        "for num in range(start, end + 1):\n",
        "    if is_prime(num):\n",
        "        print(num)"
      ],
      "metadata": {
        "colab": {
          "base_uri": "https://localhost:8080/"
        },
        "id": "dMkmZUMMvyIx",
        "outputId": "459c1164-5834-4767-aad3-6a0e5d188876"
      },
      "execution_count": 26,
      "outputs": [
        {
          "output_type": "stream",
          "name": "stdout",
          "text": [
            "Prime numbers between 600 and 800 are:\n",
            "601\n",
            "607\n",
            "613\n",
            "617\n",
            "619\n",
            "631\n",
            "641\n",
            "643\n",
            "647\n",
            "653\n",
            "659\n",
            "661\n",
            "673\n",
            "677\n",
            "683\n",
            "691\n",
            "701\n",
            "709\n",
            "719\n",
            "727\n",
            "733\n",
            "739\n",
            "743\n",
            "751\n",
            "757\n",
            "761\n",
            "769\n",
            "773\n",
            "787\n",
            "797\n"
          ]
        }
      ]
    },
    {
      "cell_type": "code",
      "source": [
        "# 3).\n",
        "print(\"Numbers between\", start, \"and\", end, \"divisible by 7 and 9 are:\")\n",
        "for num in range(100, 1001):\n",
        "    if num % 7 == 0 and num % 9 == 0:\n",
        "        print(num)"
      ],
      "metadata": {
        "colab": {
          "base_uri": "https://localhost:8080/"
        },
        "id": "kxLuQ9rmvyEU",
        "outputId": "eb1a70e6-3d29-496a-d51c-962154223c2c"
      },
      "execution_count": 2,
      "outputs": [
        {
          "output_type": "stream",
          "name": "stdout",
          "text": [
            "Numbers between 600 and 800 divisible by 7 and 9 are:\n",
            "126\n",
            "189\n",
            "252\n",
            "315\n",
            "378\n",
            "441\n",
            "504\n",
            "567\n",
            "630\n",
            "693\n",
            "756\n",
            "819\n",
            "882\n",
            "945\n"
          ]
        }
      ]
    },
    {
      "cell_type": "markdown",
      "source": [
        "#QUESTION 5"
      ],
      "metadata": {
        "id": "sXECEEXlvMkq"
      }
    },
    {
      "cell_type": "markdown",
      "source": [
        "---\n",
        "###WAP to create two lists of 10 random numbers between 10 and 30; Find\n",
        "---"
      ],
      "metadata": {
        "id": "fW1Bj5PFGLBn"
      }
    },
    {
      "cell_type": "code",
      "source": [
        "import random\n",
        "A = []\n",
        "\n",
        "for i in range(10):\n",
        "    num = random.randint(10, 30)\n",
        "    A.append(num)\n",
        "\n",
        "B = []\n",
        "for i in range(10):\n",
        "    num = random.randint(10, 30)\n",
        "    B.append(num)\n",
        "\n",
        "print(\"List 1:\", A)\n",
        "print(\"List 2:\", B)"
      ],
      "metadata": {
        "colab": {
          "base_uri": "https://localhost:8080/"
        },
        "id": "rdeY5cAyvzKP",
        "outputId": "b230ec12-30ec-48bc-ea8e-dd2b5bd23045"
      },
      "execution_count": 6,
      "outputs": [
        {
          "output_type": "stream",
          "name": "stdout",
          "text": [
            "List 1: [21, 10, 14, 21, 16, 25, 18, 14, 12, 26]\n",
            "List 2: [15, 25, 19, 16, 10, 10, 10, 15, 10, 14]\n"
          ]
        }
      ]
    },
    {
      "cell_type": "code",
      "source": [
        "A = [17, 29, 12, 20, 14, 30, 27, 23, 28, 16]\n",
        "B = [22, 29, 30, 27, 23, 19, 26, 29, 10, 16]\n",
        "\n",
        "s1 = set(A)\n",
        "s2 = set(B)\n",
        "\n",
        "common_numbers = s1.intersection(s2)\n",
        "\n",
        "\n",
        "print(\"Common numbers:\", common_numbers)"
      ],
      "metadata": {
        "colab": {
          "base_uri": "https://localhost:8080/"
        },
        "id": "DqCLg6UuvzH4",
        "outputId": "feaea53b-562c-4cfb-aa88-c7a4c924a649"
      },
      "execution_count": 1,
      "outputs": [
        {
          "output_type": "stream",
          "name": "stdout",
          "text": [
            "Common numbers: {16, 23, 27, 29, 30}\n"
          ]
        }
      ]
    },
    {
      "cell_type": "code",
      "source": [
        "unique_numbers = s1.union(s2) - s1.intersection(s2)\n",
        "print(unique_numbers)"
      ],
      "metadata": {
        "colab": {
          "base_uri": "https://localhost:8080/"
        },
        "id": "vVaR3gylvzFh",
        "outputId": "40dcd36a-06f3-4f16-d523-2cd30ba40741"
      },
      "execution_count": 3,
      "outputs": [
        {
          "output_type": "stream",
          "name": "stdout",
          "text": [
            "{10, 12, 14, 17, 19, 20, 22, 26, 28}\n"
          ]
        }
      ]
    },
    {
      "cell_type": "code",
      "source": [
        "print(max(A))\n",
        "print(max(B))"
      ],
      "metadata": {
        "colab": {
          "base_uri": "https://localhost:8080/"
        },
        "id": "pCrpqnV-vzC3",
        "outputId": "b916c87f-049b-49f5-aa2b-acf0a6f0ff4c"
      },
      "execution_count": 8,
      "outputs": [
        {
          "output_type": "stream",
          "name": "stdout",
          "text": [
            "26\n",
            "25\n"
          ]
        }
      ]
    },
    {
      "cell_type": "code",
      "source": [
        "print (A+B)"
      ],
      "metadata": {
        "colab": {
          "base_uri": "https://localhost:8080/"
        },
        "id": "H4Kp8tUAFf25",
        "outputId": "70481467-1cf0-412a-e6a7-1f4fdb28ea37"
      },
      "execution_count": 9,
      "outputs": [
        {
          "output_type": "stream",
          "name": "stdout",
          "text": [
            "[21, 10, 14, 21, 16, 25, 18, 14, 12, 26, 15, 25, 19, 16, 10, 10, 10, 15, 10, 14]\n"
          ]
        }
      ]
    },
    {
      "cell_type": "markdown",
      "source": [
        "#QUESTION 6"
      ],
      "metadata": {
        "id": "fZnhYqWqvNUL"
      }
    },
    {
      "cell_type": "markdown",
      "source": [
        "---\n",
        "###WAP to create a list of 100 random numbers between 100 and 900. Count and print the:\n",
        "---"
      ],
      "metadata": {
        "id": "zXgZE3n2GF3h"
      }
    },
    {
      "cell_type": "code",
      "source": [
        "import random as r\n",
        "import string as s\n",
        "numbers = [random.randint(100, 900) for _ in range(100)]\n",
        "\n",
        "print (numbers)  "
      ],
      "metadata": {
        "colab": {
          "base_uri": "https://localhost:8080/"
        },
        "id": "mOO-ow7Yv0Oa",
        "outputId": "227e1be1-6d7b-4a92-a681-2d742e7543fa"
      },
      "execution_count": 19,
      "outputs": [
        {
          "output_type": "stream",
          "name": "stdout",
          "text": [
            "[829, 272, 505, 852, 670, 196, 207, 799, 281, 571, 694, 335, 708, 887, 316, 170, 214, 455, 651, 262, 722, 418, 112, 731, 165, 882, 159, 763, 830, 603, 366, 815, 393, 752, 448, 114, 418, 775, 754, 389, 157, 174, 329, 301, 874, 355, 560, 690, 638, 393, 613, 445, 568, 118, 371, 103, 125, 622, 582, 107, 378, 531, 533, 837, 597, 543, 323, 350, 588, 274, 739, 176, 228, 412, 193, 146, 233, 251, 419, 408, 298, 724, 409, 180, 844, 772, 556, 159, 737, 625, 824, 789, 436, 780, 753, 711, 101, 436, 784, 338]\n"
          ]
        }
      ]
    },
    {
      "cell_type": "code",
      "source": [
        "even_count = 0\n",
        "odd_count = 0\n",
        "for num in numbers:\n",
        "    if num % 2 == 0:\n",
        "        even_count += 1\n",
        "    else:\n",
        "        odd_count += 1\n",
        "    \n",
        "    "
      ],
      "metadata": {
        "id": "gpRU7qaGv0MQ"
      },
      "execution_count": 20,
      "outputs": []
    },
    {
      "cell_type": "code",
      "source": [
        "i=0\n",
        "for num in numbers:\n",
        "    if is_prime(num):\n",
        "        i = i+1\n",
        "        print(num)\n",
        "print (i)        "
      ],
      "metadata": {
        "colab": {
          "base_uri": "https://localhost:8080/"
        },
        "id": "fMzlygCMJQPg",
        "outputId": "75a23bef-e545-4395-e170-52d278de9e91"
      },
      "execution_count": 31,
      "outputs": [
        {
          "output_type": "stream",
          "name": "stdout",
          "text": [
            "829\n",
            "281\n",
            "571\n",
            "887\n",
            "389\n",
            "157\n",
            "613\n",
            "103\n",
            "107\n",
            "739\n",
            "193\n",
            "233\n",
            "251\n",
            "419\n",
            "409\n",
            "101\n",
            "16\n"
          ]
        }
      ]
    },
    {
      "cell_type": "code",
      "source": [
        "print(\"Count of even numbers:\", even_count)\n",
        "print(\"Count of odd numbers:\", odd_count)\n",
        "\n"
      ],
      "metadata": {
        "colab": {
          "base_uri": "https://localhost:8080/"
        },
        "id": "VZ7kfsEvv0J4",
        "outputId": "0554ca94-e316-4182-a39c-eafd7a255409"
      },
      "execution_count": 21,
      "outputs": [
        {
          "output_type": "stream",
          "name": "stdout",
          "text": [
            "Count of even numbers: 51\n",
            "Count of odd numbers: 49\n",
            "Count of numbers divisible by 5: 18\n",
            "Count of numbers divisible by 10: 8\n"
          ]
        }
      ]
    },
    {
      "cell_type": "markdown",
      "source": [
        "#QUESTION 7"
      ],
      "metadata": {
        "id": "Gdg5vz67vNsM"
      }
    },
    {
      "cell_type": "code",
      "source": [
        "D = {1: \"One\", 2: \"Two\", 3: \"Three\", 4: \"Four\", 5: \"Five\"}\n",
        "\n",
        "\n",
        "with open(\"test.txt\", \"w\") as file:\n",
        "    for key, value in D.items():\n",
        "        file.write(f\"{key}, {value}\\n\")"
      ],
      "metadata": {
        "id": "Lrises8Nv00k"
      },
      "execution_count": null,
      "outputs": []
    },
    {
      "cell_type": "markdown",
      "source": [
        "#QUESTION 8"
      ],
      "metadata": {
        "id": "uLG1ldxovOMv"
      }
    },
    {
      "cell_type": "code",
      "source": [
        "L = [\"One\", \"Two\", \"Three\", \"Four\", \"Five\"]\n",
        "\n",
        "with open(\"test.txt\", \"w\") as file:  \n",
        "    for element in L:       \n",
        "        length = len(element)\n",
        "        file.write(f\"{element}, {length}\\n\")"
      ],
      "metadata": {
        "id": "TGYRa90Yv1Xj"
      },
      "execution_count": null,
      "outputs": []
    },
    {
      "cell_type": "markdown",
      "source": [
        "#QUESTION 9"
      ],
      "metadata": {
        "id": "_wWkoI3wvOme"
      }
    },
    {
      "cell_type": "code",
      "source": [
        "import random\n",
        "import string\n",
        "\n",
        "def generate_random_string(length):\n",
        "    letters = string.ascii_letters\n",
        "    return ''.join(random.choice(letters) for _ in range(length))\n",
        "\n",
        "with open(\"output.txt\", \"w\") as file:\n",
        "    for _ in range(100):\n",
        "        length = random.randint(10, 15)  # Random length between 10 and 15\n",
        "        random_string = generate_random_string(length)\n",
        "        file.write(random_string + '\\n')"
      ],
      "metadata": {
        "id": "WS-wzdnXv2BW"
      },
      "execution_count": null,
      "outputs": []
    },
    {
      "cell_type": "markdown",
      "source": [
        "#QUESTION 10"
      ],
      "metadata": {
        "id": "nUZOC_DCvhkM"
      }
    },
    {
      "cell_type": "code",
      "source": [
        "def is_prime(n):\n",
        "    \"\"\"Check if a number is prime.\"\"\"\n",
        "    if n < 2:\n",
        "        return False\n",
        "    for i in range(2, int(n ** 0.5) + 1):\n",
        "        if n % i == 0:\n",
        "            return False\n",
        "    return True\n",
        "\n",
        "# Open the file in write mode\n",
        "with open(\"prime_numbers.txt\", \"w\") as file:\n",
        "    # Write prime numbers between 600 and 800 to the file\n",
        "    for number in range(600, 801):\n",
        "        if is_prime(number):\n",
        "            file.write(str(number) + '\\n')\n"
      ],
      "metadata": {
        "id": "YplqJiWMv2iz"
      },
      "execution_count": null,
      "outputs": []
    },
    {
      "cell_type": "markdown",
      "source": [
        "#QUESTION 11"
      ],
      "metadata": {
        "id": "cSa4Yx-Pvh6U"
      }
    },
    {
      "cell_type": "code",
      "source": [
        "import time\n",
        "\n",
        "# Record the start time\n",
        "start_time = time.time()\n",
        "\n",
        "# Your program code goes here\n",
        "# ...\n",
        "\n",
        "# Record the end time\n",
        "end_time = time.time()\n",
        "\n",
        "# Calculate the elapsed time\n",
        "elapsed_time = end_time - start_time\n",
        "\n",
        "# Print the elapsed time\n",
        "print(\"Elapsed time:\", elapsed_time, \"seconds\")\n"
      ],
      "metadata": {
        "id": "SD4l_p8Cv3Q9"
      },
      "execution_count": null,
      "outputs": []
    },
    {
      "cell_type": "markdown",
      "source": [
        "#QUESTION 12"
      ],
      "metadata": {
        "id": "8su4u_kqviMP"
      }
    },
    {
      "cell_type": "code",
      "source": [],
      "metadata": {
        "id": "kc-Ow2KLv3w6"
      },
      "execution_count": null,
      "outputs": []
    },
    {
      "cell_type": "code",
      "source": [],
      "metadata": {
        "id": "8urUnzosv3uD"
      },
      "execution_count": null,
      "outputs": []
    },
    {
      "cell_type": "code",
      "source": [],
      "metadata": {
        "id": "bjHO-Lgwv3r0"
      },
      "execution_count": null,
      "outputs": []
    },
    {
      "cell_type": "code",
      "source": [],
      "metadata": {
        "id": "ZV7K-L4Iv3pB"
      },
      "execution_count": null,
      "outputs": []
    },
    {
      "cell_type": "markdown",
      "source": [
        "#QUESTION 13"
      ],
      "metadata": {
        "id": "6hODDyoxvics"
      }
    },
    {
      "cell_type": "code",
      "source": [],
      "metadata": {
        "id": "OMVK5haoWZJx"
      },
      "execution_count": null,
      "outputs": []
    },
    {
      "cell_type": "code",
      "source": [],
      "metadata": {
        "id": "Q_EG0RF9WZQH"
      },
      "execution_count": null,
      "outputs": []
    },
    {
      "cell_type": "code",
      "source": [],
      "metadata": {
        "id": "IhfKzAiiWZV2"
      },
      "execution_count": null,
      "outputs": []
    },
    {
      "cell_type": "code",
      "source": [],
      "metadata": {
        "id": "inA_2PE0WZa0"
      },
      "execution_count": null,
      "outputs": []
    }
  ]
}